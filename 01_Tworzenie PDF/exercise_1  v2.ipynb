{
 "cells": [
  {
   "cell_type": "markdown",
   "id": "national-prospect",
   "metadata": {},
   "source": [
    "Za pomocą biblioteki `reportlab` wygeneruj PDF z tabliczką mnożenia liczb od 0 do 10 włącznie. Pogrubionym fontem wypisz nagłówki wierszy i kolumn - czynniki, natomiast iloczyny wypisz bez pogrubienia.\n",
    "\n",
    "Podpowiedź: stwórz zagnieżdżone pętle **for**: zewnętrzna ze zmienną `x` oraz wewnętrzna ze zmienną `y` (albo odwrotnie, jeśli wolisz). Użyj tych zmiennych zarówno do obliczenia wyników mnożenia, jak i do obliczenia gdzie na stronie ta liczba ma się pojawić."
   ]
  },
  {
   "cell_type": "code",
   "execution_count": 20,
   "id": "dynamic-location",
   "metadata": {},
   "outputs": [],
   "source": [
    "from reportlab.pdfgen import canvas\n",
    "from reportlab.lib.pagesizes import A4\n",
    "from reportlab.pdfbase import pdfmetrics\n",
    "from reportlab.pdfbase.ttfonts import TTFont\n",
    "\n",
    "\n",
    "pdfmetrics.registerFont(TTFont('Helvetica', 'times.ttf'))\n",
    "width, height = A4\n",
    "c = canvas.Canvas('tabliczka_mnozenia_v2.pdf', pagesize=A4)\n",
    "lst = []\n",
    "for i in range(1,11):\n",
    "    x = i\n",
    "    for j in range(1,11):\n",
    "        y = j\n",
    "        output = x*y\n",
    "        # print(f'{x} x {y} = {i*j}')\n",
    "        lst.append(output)\n",
    "\n",
    "z = 50\n",
    "w = 800       \n",
    "for l,k in enumerate(lst):\n",
    "    if l > 0 and l % 10 == 0:\n",
    "        # c.showPage() \n",
    "        w = 800 \n",
    "        z +=20\n",
    "    if z == 50:\n",
    "        c.drawString(z, w, f'{k}', mode = 2)\n",
    "        w -=20 \n",
    "    elif w == 800: \n",
    "        c.drawString(z, w, f'{k}', mode = 2)\n",
    "        w -=20 \n",
    "    else:\n",
    "        c.drawString(z,w,f'{k}')\n",
    "        w -=20\n",
    "c.save()"
   ]
  },
  {
   "cell_type": "code",
   "execution_count": 11,
   "id": "42063715",
   "metadata": {},
   "outputs": [
    {
     "name": "stdout",
     "output_type": "stream",
     "text": [
      "[1, 2, 3, 4, 5, 6, 7, 8, 9, 10, 2, 4, 6, 8, 10, 12, 14, 16, 18, 20, 3, 6, 9, 12, 15, 18, 21, 24, 27, 30, 4, 8, 12, 16, 20, 24, 28, 32, 36, 40, 5, 10, 15, 20, 25, 30, 35, 40, 45, 50, 6, 12, 18, 24, 30, 36, 42, 48, 54, 60, 7, 14, 21, 28, 35, 42, 49, 56, 63, 70, 8, 16, 24, 32, 40, 48, 56, 64, 72, 80, 9, 18, 27, 36, 45, 54, 63, 72, 81, 90, 10, 20, 30, 40, 50, 60, 70, 80, 90, 100]\n"
     ]
    }
   ],
   "source": [
    "print(lst)"
   ]
  }
 ],
 "metadata": {
  "kernelspec": {
   "display_name": "Python 3",
   "language": "python",
   "name": "python3"
  },
  "language_info": {
   "codemirror_mode": {
    "name": "ipython",
    "version": 3
   },
   "file_extension": ".py",
   "mimetype": "text/x-python",
   "name": "python",
   "nbconvert_exporter": "python",
   "pygments_lexer": "ipython3",
   "version": "3.11.2"
  },
  "vscode": {
   "interpreter": {
    "hash": "0d8982f8523458a28501f6ecbcb4286f517732dc00c8593f90a87550e9b6a412"
   }
  }
 },
 "nbformat": 4,
 "nbformat_minor": 5
}
