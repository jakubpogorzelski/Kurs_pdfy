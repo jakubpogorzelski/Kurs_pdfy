{
 "cells": [
  {
   "cell_type": "markdown",
   "id": "orange-shelf",
   "metadata": {},
   "source": [
    "Za pomocą biblioteki `reportlab` wygeneruj PDF ze stroną tytułową raportu:\n",
    "- większym fontem, w 1/3 wysokości strony i z zachowaniem marginesu po lewej stronie umieść tytuł raportu (jeśli nie masz na niego pomysłu, umieść po prostu \"Tytuł Raportu\"),\n",
    "- w 2/3 wysokości strony i z tym samym marginesem co tytuł umieść swoje imię i nazwisko,\n",
    "- tuż poniżej imienia i nazwiska, mniejszym fontem napisz \"Copyright `[ROK]` Nazwa Firmy. Wszelkie prawa zastrzeżone\". Nie wpisuj roku na stałe, zamiast tego pobierz aktualny rok za pomocą modułu `datetime`.\n",
    "\n",
    "Tak jak poprzednio każdy z napisów powinien być utworzony za pomocą osobnego wywołania metody 'drawString'."
   ]
  },
  {
   "cell_type": "code",
   "execution_count": 9,
   "id": "impressed-trout",
   "metadata": {},
   "outputs": [],
   "source": [
    "from reportlab.pdfgen import canvas\n",
    "from reportlab.lib.pagesizes import A4\n",
    "from reportlab.pdfbase import pdfmetrics\n",
    "from reportlab.pdfbase.ttfonts import TTFont\n",
    "import datetime\n",
    "\n",
    "pdfmetrics.registerFont(TTFont('Helvetica', 'times.ttf'))\n",
    "width, height = A4\n",
    "c = canvas.Canvas('Raport_strona tytułowa.pdf', pagesize=A4)\n",
    "current_year = datetime.date.today().year\n",
    "c.setFont(\"Helvetica\",35)\n",
    "c.drawString(50, height*0.66, \"Raport o stanie świata\",mode=2)\n",
    "c.setFont(\"Helvetica\",15)\n",
    "c.drawString(50, height*0.33, \"Jakub Pogorzelski\",mode=0)\n",
    "c.drawString(50, height*0.33-20, f'Copyright {current_year} CodersBlab. Wszelkie prawa zastrzeżone',mode=0)\n",
    "\n",
    "c.save()"
   ]
  }
 ],
 "metadata": {
  "kernelspec": {
   "display_name": "Python 3",
   "language": "python",
   "name": "python3"
  },
  "language_info": {
   "codemirror_mode": {
    "name": "ipython",
    "version": 3
   },
   "file_extension": ".py",
   "mimetype": "text/x-python",
   "name": "python",
   "nbconvert_exporter": "python",
   "pygments_lexer": "ipython3",
   "version": "3.11.2"
  },
  "vscode": {
   "interpreter": {
    "hash": "0d8982f8523458a28501f6ecbcb4286f517732dc00c8593f90a87550e9b6a412"
   }
  }
 },
 "nbformat": 4,
 "nbformat_minor": 5
}
