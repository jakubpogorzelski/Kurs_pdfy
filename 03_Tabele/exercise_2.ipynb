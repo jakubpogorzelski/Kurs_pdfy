{
 "cells": [
  {
   "cell_type": "markdown",
   "id": "grand-earthquake",
   "metadata": {},
   "source": [
    "Na podstawie poprzedniego zadania napisz funkcję, która przyjmie nazwę pliku do wygenerowania, dane o nabywcy oraz listę pozycji na fakturze - a następnie wygeneruje i zapisze fakturę w pliku o podanej nazwie.\n",
    "\n",
    "W pliku `dane.json` znajdziesz dane trzech faktur - za pomocą pętli odczytaj te dane i przekaż do funkcji, aby wygenerować faktury w formie plików PDF. Pliki nazwij kolejno `faktura-1.pdf`, `faktura-2.pdf`, itd."
   ]
  },
  {
   "cell_type": "code",
   "execution_count": 1,
   "id": "d56ce5ef",
   "metadata": {},
   "outputs": [],
   "source": [
    "from reportlab.platypus import SimpleDocTemplate, Table, TableStyle\n",
    "from reportlab.lib import colors \n",
    "from reportlab.lib.pagesizes import A4\n",
    "from reportlab.platypus import SimpleDocTemplate, Paragraph, Spacer, Image,PageBreak\n",
    "from reportlab.lib.styles import getSampleStyleSheet, ParagraphStyle\n",
    "from reportlab.pdfbase import pdfmetrics\n",
    "from reportlab.pdfbase.ttfonts import TTFont\n",
    "import json \n",
    "pdfmetrics.registerFont(TTFont('Calibri', 'Calibri.ttf'))\n",
    "\n",
    "\n",
    "styles=getSampleStyleSheet()\n",
    "right_allign = ParagraphStyle('header',parent=styles['Normal'],fontName=\"Calibri\",fontSize=10, leading = 10, alignment = 2)\n",
    "left_allign = ParagraphStyle('header',parent=styles['Normal'],fontName=\"Calibri\",fontSize=10, leading = 10, alignment = 0)"
   ]
  },
  {
   "cell_type": "code",
   "execution_count": 35,
   "id": "eb6fb886",
   "metadata": {},
   "outputs": [
    {
     "name": "stdout",
     "output_type": "stream",
     "text": [
      "faktura-1.pdf {'name': 'Firma XYZ', 'address': 'Adres firmy XYZ', 'nip': 7564984534, 'regon': 324353453} [{'name': 'Grabki', 'price': 4.5, 'amount': 5}, {'name': 'Konewka', 'price': 15, 'amount': 10}, {'name': 'Łopatka', 'price': 6, 'amount': 5}] 1.12.2020\n",
      "faktura-2.pdf {'name': 'Firma ABC', 'address': 'Adres firmy ABC', 'nip': 8472058276, 'regon': 437598432} [{'name': 'Lalka', 'price': 39.9, 'amount': 6}, {'name': 'Samochodzik', 'price': 16.5, 'amount': 4}, {'name': 'Książka', 'price': 19.9, 'amount': 10}] 11.11.2020\n",
      "faktura-3.pdf {'name': 'Firma IJK', 'address': 'Adres firmy IJK', 'nip': 7473092210, 'regon': 687432543} [{'name': 'Karabin', 'price': 25, 'amount': 10}, {'name': 'Kulki', 'price': 2.5, 'amount': 100}] 15.12.2020\n"
     ]
    }
   ],
   "source": [
    "\n",
    "\n",
    "with open('dane do faktur.json', encoding='utf-8') as user_file:\n",
    "    file_contents = user_file.read()\n",
    "\n",
    "data = json.loads(file_contents)\n",
    "\n",
    "for i,invoice in enumerate(data[\"invoices\"],start=1):\n",
    "    filename = f'faktura-{i}.pdf'\n",
    "    buyer = invoice['buyer']\n",
    "    date_fv = invoice['date']\n",
    "    items = invoice['items']\n",
    "    print(filename, buyer,items, date_fv)\n"
   ]
  },
  {
   "cell_type": "code",
   "execution_count": 47,
   "id": "b5816931",
   "metadata": {},
   "outputs": [
    {
     "name": "stdout",
     "output_type": "stream",
     "text": [
      "4.5\n",
      "15\n",
      "6\n"
     ]
    }
   ],
   "source": [
    "invoice['items']\n",
    "for i,item in enumerate(invoice[\"items\"], start=1):\n",
    "    print(f'{item[\"price\"]}')"
   ]
  },
  {
   "cell_type": "code",
   "execution_count": 58,
   "id": "f991a053",
   "metadata": {},
   "outputs": [],
   "source": [
    "def generator_fatur(filename,buyer,date_fv, items):\n",
    "    \n",
    "    nazwa_firmy_s = 'Firma XYZ'\n",
    "    adres_firmy_s = 'Adres firmy' \n",
    "    nip_numer_s = '709657623'\n",
    "    nip_s = f'NIP: {nip_numer_s}'\n",
    "    regon_numer_s = '70989343'\n",
    "    regon_s = f'REGON:{regon_numer_s}'\n",
    "\n",
    "\n",
    "    city = 'Warszawa'\n",
    "    date = date_fv\n",
    "    nazwa_firmy_n = buyer[\"name\"]\n",
    "    adres_firmy_n = buyer[\"address\"]\n",
    "    nip_numer_n = buyer[\"nip\"]\n",
    "    nip_n = f'NIP: {nip_numer_n}'\n",
    "    regon_numer_n = buyer[\"regon\"]\n",
    "    regon_n = f'REGON:{regon_numer_n}' \n",
    "\n",
    "\n",
    "    doc = SimpleDocTemplate(filename,pagesize=A4,rightMargin=72,\n",
    "                            leftMargin=72,topMargin=72,bottomMargin=18)\n",
    "\n",
    "    data = [['L.p.','Nazwa towaru/usługi', 'Ilość', 'Cena', 'Cena łączna']]\n",
    "    total = 0\n",
    "\n",
    "    for i, item in enumerate(items, start=1):\n",
    "            cena_laczna = item[\"amount\"]*item[\"price\"]\n",
    "            total += cena_laczna \n",
    "            data.append([i,item[\"name\"],item[\"amount\"],f'{item[\"price\"]} zł',f'{cena_laczna} zł']) \n",
    "    \n",
    "    data.append(['Suma','','','',f'{total} zł'])\n",
    "\n",
    "\n",
    "    Story = []\n",
    "\n",
    "    Story.append(Paragraph(f'Miejsce wystawienia: {city}', right_allign))\n",
    "    Story.append(Paragraph(f'Data wystawienia: {date}',right_allign))\n",
    "    Story.append(Paragraph(f'Data sprzedaży: {date}',right_allign)) \n",
    "    Story.append(Paragraph(f'Data zakończenia: {date}',right_allign))\n",
    "    Story.append(Spacer(1,12))\n",
    "\n",
    "    Story.append(Paragraph(f'Sprzedawca',left_allign))\n",
    "    Story.append(Paragraph(f'{nazwa_firmy_s}',left_allign))\n",
    "    Story.append(Paragraph(f'{adres_firmy_s}',left_allign))\n",
    "    Story.append(Paragraph(f'{nip_s}',left_allign))\n",
    "    Story.append(Paragraph(f'{regon_s}',left_allign))\n",
    "    Story.append(Spacer(1,12))\n",
    "    Story.append(Spacer(1,12))\n",
    "\n",
    "    Story.append(Paragraph(f'Nabywca',left_allign))\n",
    "    Story.append(Paragraph(f'{nazwa_firmy_n}',left_allign))\n",
    "    Story.append(Paragraph(f'{adres_firmy_n}',left_allign))\n",
    "    Story.append(Paragraph(f'{nip_n}',left_allign))\n",
    "    Story.append(Paragraph(f'{regon_n}',left_allign))\n",
    "    Story.append(Spacer(1,12))\n",
    "    Story.append(Spacer(1,12))\n",
    "    Story.append(Spacer(1,12))\n",
    "    Story.append(Spacer(1,12))\n",
    "\n",
    "\n",
    "    ts = TableStyle([\n",
    "        ('INNERGRID', (0,0), (-1,-1), 0.25, \"black\"),\n",
    "        ('BOX', (0,0), (-1,-1), 0.25, \"black\"),\n",
    "        ('SPAN',(0,-1),(1,-1)),\n",
    "        ('FONT',(0,0),(-1,-1),'Calibri')\n",
    "    ])\n",
    "\n",
    "    invoice = Table(data, style = ts)\n",
    "\n",
    "    Story.append(invoice)\n",
    "\n",
    "    Story.append(Spacer(1,12))\n",
    "    Story.append(Spacer(1,12))\n",
    "    Story.append(Spacer(1,12))\n",
    "    Story.append(Spacer(1,12))\n",
    "    Story.append(Spacer(1,12))\n",
    "    Story.append(Spacer(1,12))\n",
    "    Story.append(Paragraph(f'.....................................',left_allign))\n",
    "    Story.append(Paragraph(f'Podpis osoby upoważnionej do odbioru',left_allign))\n",
    "\n",
    "    Story.append(Spacer(1,12))\n",
    "    Story.append(Paragraph(f'.....................................',left_allign))\n",
    "    Story.append(Paragraph(f'Podpis osoby upoważnionej do wystawienia',left_allign))\n",
    "\n",
    "    doc.build(Story)\n",
    "\n",
    "\n",
    "\n",
    "\n"
   ]
  },
  {
   "cell_type": "code",
   "execution_count": 59,
   "id": "6c7c8a9a",
   "metadata": {},
   "outputs": [],
   "source": [
    "for i,invoice in enumerate(data[\"invoices\"],start=1):\n",
    "    filename = f'faktura-{i}.pdf'\n",
    "    buyer = invoice['buyer']\n",
    "    date_fv = invoice['date']\n",
    "    items = invoice['items']\n",
    "    generator_fatur(filename,buyer,date_fv,items)"
   ]
  }
 ],
 "metadata": {
  "kernelspec": {
   "display_name": "Python 3",
   "language": "python",
   "name": "python3"
  },
  "language_info": {
   "codemirror_mode": {
    "name": "ipython",
    "version": 3
   },
   "file_extension": ".py",
   "mimetype": "text/x-python",
   "name": "python",
   "nbconvert_exporter": "python",
   "pygments_lexer": "ipython3",
   "version": "3.11.2"
  },
  "vscode": {
   "interpreter": {
    "hash": "0d8982f8523458a28501f6ecbcb4286f517732dc00c8593f90a87550e9b6a412"
   }
  }
 },
 "nbformat": 4,
 "nbformat_minor": 5
}
