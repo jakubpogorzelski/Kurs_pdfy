{
 "cells": [
  {
   "cell_type": "markdown",
   "id": "balanced-keeping",
   "metadata": {},
   "source": [
    "Wygeneruj plik `faktura.pdf` na podstawie danych podanych poniżej. Postaraj się nie wpisywać danych na stałe w kodzie - umieść je w zmiennych na początku skryptu, a dodając kolejne elementy do PDFa odnoś się do tych zmiennych.\n",
    "\n",
    "\n",
    "\n",
    "Wzór:\n",
    "\n",
    "![Wzór](faktura.png)"
   ]
  },
  {
   "cell_type": "code",
   "execution_count": 23,
   "id": "interested-illness",
   "metadata": {},
   "outputs": [
    {
     "data": {
      "text/plain": [
       "'11.11.2020'"
      ]
     },
     "execution_count": 23,
     "metadata": {},
     "output_type": "execute_result"
    }
   ],
   "source": [
    "import json \n",
    "\n",
    "with open('dane do faktur.json', encoding='utf-8') as user_file:\n",
    "    file_contents = user_file.read()\n",
    "\n",
    "data = json.loads(file_contents)\n",
    "data[\"invoices\"][1][\"date\"]\n",
    "def json_read():\n",
    "    with open('dane do faktur.json', encoding='utf-8') as user_file:\n",
    "        file_contents = user_file.read()\n",
    "\n",
    "    data = json.loads(file_contents)\n",
    "\n",
    "    for i in data[\"invoices\"]:\n",
    "        data_fv = i[\"date\"]\n"
   ]
  },
  {
   "cell_type": "code",
   "execution_count": 60,
   "id": "763b3eb8",
   "metadata": {},
   "outputs": [],
   "source": [
    "\n",
    "from reportlab.platypus import SimpleDocTemplate, Table, TableStyle\n",
    "from reportlab.lib import colors \n",
    "from reportlab.lib.pagesizes import A4\n",
    "from reportlab.platypus import SimpleDocTemplate, Paragraph, Spacer, Image,PageBreak\n",
    "from reportlab.lib.styles import getSampleStyleSheet, ParagraphStyle\n",
    "from reportlab.pdfbase import pdfmetrics\n",
    "from reportlab.pdfbase.ttfonts import TTFont\n",
    "\n",
    "pdfmetrics.registerFont(TTFont('Calibri', 'Calibri.ttf'))\n",
    "doc = SimpleDocTemplate(\"Faktura_v1.pdf\",pagesize=A4,rightMargin=72,\n",
    "                        leftMargin=72,topMargin=72,bottomMargin=18)\n",
    "Story = []\n",
    "styles=getSampleStyleSheet()\n",
    "right_allign = ParagraphStyle('header',parent=styles['Normal'],fontName=\"Calibri\",fontSize=10, leading = 10, alignment = 2)\n",
    "left_allign = ParagraphStyle('header',parent=styles['Normal'],fontName=\"Calibri\",fontSize=10, leading = 10, alignment = 0)\n",
    "\n",
    "city = 'Warszawa'\n",
    "date = '01/12/2020'\n",
    "nazwa_firmy_s = 'Firma XYZ'\n",
    "adres_firmy_s = 'Adres firmy' \n",
    "nip_numer_s = '709657623'\n",
    "nip_s = f'NIP: {nip_numer_s}'\n",
    "regon_numer_s = '70989343'\n",
    "regon_s = f'REGON:{regon_numer_s}'\n",
    "\n",
    "nazwa_firmy_n = 'Firma ABC'\n",
    "adres_firmy_n = 'Adres firmy' \n",
    "nip_numer_n = '709657623'\n",
    "nip_n = f'NIP: {nip_numer_n}'\n",
    "regon_numer_n = '70989343'\n",
    "regon_n = f'REGON:{regon_numer_s}'\n",
    "\n",
    "\n",
    "Story.append(Paragraph(f'Miejsce wystawienia: {city}', right_allign))\n",
    "Story.append(Paragraph(f'Data wystawienia: {date}',right_allign))\n",
    "Story.append(Paragraph(f'Data sprzedaży: {date}',right_allign)) \n",
    "Story.append(Paragraph(f'Data zakończenia: {date}',right_allign))\n",
    "Story.append(Spacer(1,12))\n",
    "\n",
    "Story.append(Paragraph(f'Sprzedawca',left_allign))\n",
    "Story.append(Paragraph(f'{nazwa_firmy_s}',left_allign))\n",
    "Story.append(Paragraph(f'{adres_firmy_s}',left_allign))\n",
    "Story.append(Paragraph(f'{nip_s}',left_allign))\n",
    "Story.append(Paragraph(f'{regon_s}',left_allign))\n",
    "Story.append(Spacer(1,12))\n",
    "Story.append(Spacer(1,12))\n",
    "\n",
    "Story.append(Paragraph(f'Nabywca',left_allign))\n",
    "Story.append(Paragraph(f'{nazwa_firmy_n}',left_allign))\n",
    "Story.append(Paragraph(f'{adres_firmy_n}',left_allign))\n",
    "Story.append(Paragraph(f'{nip_n}',left_allign))\n",
    "Story.append(Paragraph(f'{regon_n}',left_allign))\n",
    "Story.append(Spacer(1,12))\n",
    "Story.append(Spacer(1,12))\n",
    "Story.append(Spacer(1,12))\n",
    "Story.append(Spacer(1,12))\n",
    "\n",
    "nazwa_1 = 'Wiaderko'\n",
    "ilosc_1 = 10\n",
    "cena_1 = 9\n",
    "cena_laczna_1 = ilosc_1*cena_1 \n",
    "\n",
    "nazwa_2 = 'Łopatka'\n",
    "ilosc_2 = 10\n",
    "cena_2 = 19\n",
    "cena_laczna_2 = ilosc_2*cena_2 \n",
    "\n",
    "data = [['L.p.','Nazwa towaru/usługi', 'Ilość', 'Cena', 'Cena łączna']\n",
    "        ,['1',nazwa_1,ilosc_1,f'{cena_1} zł',f'{cena_laczna_1} zł']\n",
    "        ,['2',nazwa_2,ilosc_2,f'{cena_2} zł',f'{cena_laczna_2} zł']\n",
    "        ,['Suma','','','',f'{cena_laczna_1+cena_laczna_2} zł']]\n",
    "\n",
    "\n",
    "\n",
    "ts = TableStyle([\n",
    "    ('INNERGRID', (0,0), (-1,-1), 0.25, \"black\"),\n",
    "    ('BOX', (0,0), (-1,-1), 0.25, \"black\"),\n",
    "    ('SPAN',(0,-1),(1,-1)),\n",
    "    ('FONT',(0,0),(-1,-1),'Calibri')\n",
    "])\n",
    "\n",
    "invoice = Table(data, style = ts)\n",
    "\n",
    "Story.append(invoice)\n",
    "\n",
    "Story.append(Spacer(1,12))\n",
    "Story.append(Spacer(1,12))\n",
    "Story.append(Spacer(1,12))\n",
    "Story.append(Spacer(1,12))\n",
    "Story.append(Spacer(1,12))\n",
    "Story.append(Spacer(1,12))\n",
    "Story.append(Paragraph(f'.....................................',left_allign))\n",
    "Story.append(Paragraph(f'Podpis osoby upoważnionej do odbioru',left_allign))\n",
    "\n",
    "Story.append(Spacer(1,12))\n",
    "Story.append(Paragraph(f'.....................................',left_allign))\n",
    "Story.append(Paragraph(f'Podpis osoby upoważnionej do wystawienia',left_allign))\n",
    "\n",
    "doc.build(Story)\n",
    "\n",
    "\n",
    "\n",
    "\n"
   ]
  },
  {
   "cell_type": "code",
   "execution_count": 29,
   "id": "19004a91",
   "metadata": {},
   "outputs": [
    {
     "name": "stdout",
     "output_type": "stream",
     "text": [
      "None\n"
     ]
    }
   ],
   "source": []
  }
 ],
 "metadata": {
  "kernelspec": {
   "display_name": "Python 3",
   "language": "python",
   "name": "python3"
  },
  "language_info": {
   "codemirror_mode": {
    "name": "ipython",
    "version": 3
   },
   "file_extension": ".py",
   "mimetype": "text/x-python",
   "name": "python",
   "nbconvert_exporter": "python",
   "pygments_lexer": "ipython3",
   "version": "3.8.5"
  }
 },
 "nbformat": 4,
 "nbformat_minor": 5
}
